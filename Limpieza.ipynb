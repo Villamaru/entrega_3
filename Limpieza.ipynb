{
 "cells": [
  {
   "cell_type": "markdown",
   "metadata": {},
   "source": [
    "Importamos librerias."
   ]
  },
  {
   "cell_type": "code",
   "execution_count": 2,
   "metadata": {},
   "outputs": [],
   "source": [
    "import pandas as pd\n",
    "import numpy as np\n",
    "import matplotlib as mpl\n",
    "import seaborn as sns\n",
    "pd.options.display.max_rows = 30\n",
    "import matplotlib.pyplot as plt\n",
    "from scipy import stats\n",
    "%matplotlib inline"
   ]
  },
  {
   "cell_type": "markdown",
   "metadata": {},
   "source": [
    "Cargamos el dataset."
   ]
  },
  {
   "cell_type": "code",
   "execution_count": 3,
   "metadata": {},
   "outputs": [
    {
     "name": "stdout",
     "output_type": "stream",
     "text": [
      "(32561, 15)\n",
      "age               0\n",
      "workclass         0\n",
      "fnlwgt            0\n",
      "education         0\n",
      "education.num     0\n",
      "marital.status    0\n",
      "occupation        0\n",
      "relationship      0\n",
      "race              0\n",
      "sex               0\n",
      "capital.gain      0\n",
      "capital.loss      0\n",
      "hours.per.week    0\n",
      "native.country    0\n",
      "income            0\n",
      "dtype: int64\n"
     ]
    }
   ],
   "source": [
    "df = pd.read_csv('adult.csv')\n",
    "print(df.shape)\n",
    "print(df.isna().sum())"
   ]
  },
  {
   "cell_type": "markdown",
   "metadata": {},
   "source": [
    "Hacemos revision de datos faltantes"
   ]
  },
  {
   "cell_type": "code",
   "execution_count": 4,
   "metadata": {},
   "outputs": [
    {
     "data": {
      "text/plain": [
       "(30162, 15)"
      ]
     },
     "execution_count": 4,
     "metadata": {},
     "output_type": "execute_result"
    }
   ],
   "source": [
    "df = df.applymap(lambda x : np.nan if x == \"?\" else x).dropna() #Decidimos deshacernos de ellos ya que solo se componen por aproximadamente 2000 registros.\n",
    "df.shape"
   ]
  },
  {
   "cell_type": "markdown",
   "metadata": {},
   "source": [
    "Revisamos columnas"
   ]
  },
  {
   "cell_type": "code",
   "execution_count": 5,
   "metadata": {},
   "outputs": [
    {
     "data": {
      "text/plain": [
       "Index(['age', 'workclass', 'fnlwgt', 'education', 'education.num',\n",
       "       'marital.status', 'occupation', 'relationship', 'race', 'sex',\n",
       "       'capital.gain', 'capital.loss', 'hours.per.week', 'native.country',\n",
       "       'income'],\n",
       "      dtype='object')"
      ]
     },
     "execution_count": 5,
     "metadata": {},
     "output_type": "execute_result"
    }
   ],
   "source": [
    "df.columns"
   ]
  },
  {
   "cell_type": "code",
   "execution_count": 6,
   "metadata": {},
   "outputs": [],
   "source": [
    "#print(df.age.unique()) #No es necesario convertir\n",
    "\n",
    "#print(df.workclass.unique()) \n",
    "#'Private' 'State-gov' 'Federal-gov' 'Self-emp-not-inc' 'Self-emp-inc','Local-gov' 'Without-pay'\n",
    "\n",
    "#df.education.unique() \n",
    "#'HS-grad', '7th-8th', 'Some-college', '10th', 'Doctorate','Prof-school', 'Bachelors', 'Masters', '11th', 'Assoc-voc','1st-4th', '5th-6th', 'Assoc-acdm', '12th', '9th', 'Preschool'\n",
    "\n",
    "#df.sort_values(\"education.num\") \n",
    "#De 1 - preschool a 16 - Doctorate\n",
    "\n",
    "#df[\"marital.status\"].unique() #7 val\n",
    "#'Widowed', 'Divorced', 'Separated', 'Never-married','Married-civ-spouse', 'Married-spouse-absent', 'Married-AF-spouse'\n",
    "\n",
    "#df.occupation.unique() # 14 val\n",
    "#'Exec-managerial', 'Machine-op-inspct', 'Prof-specialty','Other-service', 'Adm-clerical', 'Transport-moving', 'Sales','Craft-repair', 'Farming-fishing', 'Tech-support','Protective-serv', 'Handlers-cleaners', 'Armed-Forces','Priv-house-serv'\n",
    "\n",
    "#df.relationship.unique()\n",
    "#'Not-in-family', 'Unmarried', 'Own-child', 'Other-relative','Husband', 'Wife'\n",
    "\n",
    "#print(df.race.unique()) # 5 val\n",
    "#'White' 'Black' 'Asian-Pac-Islander' 'Other' 'Amer-Indian-Eskimo'\n",
    "\n",
    "#df.sex.unique() # 2 val\n",
    "\n",
    "#print(df['capital.loss']) #No es necesario convertir\n",
    "\n",
    "#df.fnlwgt.unique().shape\n",
    "\n",
    "#sns.distplot(df.fnlwgt)\n",
    "\n",
    "\n",
    "#df['income']=df['income'].map({'<=50K': 0, '>50K': 1, '<=50K.': 0, '>50K.': 1})\n"
   ]
  },
  {
   "cell_type": "markdown",
   "metadata": {},
   "source": [
    "Hacemos cambios en los datos."
   ]
  },
  {
   "cell_type": "code",
   "execution_count": 6,
   "metadata": {
    "scrolled": true
   },
   "outputs": [],
   "source": [
    "df['workclass_num'] = df.workclass.map({'Private':0, 'State-gov':1, 'Federal-gov':2, 'Self-emp-not-inc':3, 'Self-emp-inc':4, 'Local-gov':5, 'Without-pay':6})\n",
    "\n",
    "df[\"marital_status_num\"] = df[\"marital.status\"].map({'Widowed':0, 'Divorced':1, 'Separated':2, 'Never-married':3,'Married-civ-spouse':4, 'Married-spouse-absent':5, 'Married-AF-spouse':6})\n",
    "\n",
    "df[\"occupation_num\"] = df[\"occupation\"].map({'Exec-managerial':0, 'Machine-op-inspct':1, 'Prof-specialty':2,'Other-service':3, 'Adm-clerical':4, 'Transport-moving':5, 'Sales':6,'Craft-repair':7, 'Farming-fishing':8, 'Tech-support':9,'Protective-serv':10, 'Handlers-cleaners':11, 'Armed-Forces':12,'Priv-house-serv':13})\n",
    "\n",
    "df[\"relationship_num\"] = df.relationship.map({'Not-in-family':0, 'Unmarried':1, 'Own-child':2, 'Other-relative':3,'Husband':4, 'Wife':5})\n",
    "\n",
    "df[\"race_num\"] = df.race.map{'White':0 ,'Black':1, 'Asian-Pac-Islander':2 ,'Other':3, 'Amer-Indian-Eskimo':4}\n",
    "\n",
    "df[\"sex_num\"] = np.where(df.sex == \"Male\", 0,1) #dos valores\n",
    "\n",
    "df[\"capital_chage\"] = df[\"capital.loss\"].applymap(lambda x : -x) + df\n",
    "\n",
    "df[\"income_num\"] = np.where(df.income == '<=50K', 0, 1) #dos valores, a una variable dummy \n",
    "\n",
    "numerable = [\"age\",\"workclass_num\",\"fnlwgt\",\"education.num\",\"marital_status_num\",\"occupation_num\",\"relationship_num\",\"sex_num\",\"capital.loss\",\"capital.gain\",'hours.per.week','native_country_num',\"income_num\"]"
   ]
  },
  {
   "cell_type": "code",
   "execution_count": null,
   "metadata": {},
   "outputs": [],
   "source": [
    "df[\"native.countries\"]"
   ]
  },
  {
   "cell_type": "code",
   "execution_count": 22,
   "metadata": {},
   "outputs": [
    {
     "data": {
      "text/plain": [
       "1       -4356\n",
       "3       -3900\n",
       "4       -3900\n",
       "5       -3770\n",
       "6       -3770\n",
       "7       -3683\n",
       "8       -3683\n",
       "10      -3004\n",
       "11      -2824\n",
       "12      -2824\n",
       "13      -2824\n",
       "15      -2824\n",
       "16      -2824\n",
       "17      -2824\n",
       "19      -2824\n",
       "        ...  \n",
       "1636    99999\n",
       "1635    99999\n",
       "1633    99999\n",
       "1632    99999\n",
       "1631    99999\n",
       "1630    99999\n",
       "1629    99999\n",
       "1628    99999\n",
       "1627    99999\n",
       "1626    99999\n",
       "1624    99999\n",
       "1623    99999\n",
       "1622    99999\n",
       "1620    99999\n",
       "1634    99999\n",
       "Length: 30162, dtype: int64"
      ]
     },
     "execution_count": 22,
     "metadata": {},
     "output_type": "execute_result"
    }
   ],
   "source": [
    "a = df[\"capital.loss\"]\n",
    "b = df[\"capital.gain\"]\n",
    "a = a.apply(lambda x : -x)\n",
    "(a + b).sort_values()\n",
    "#a.append(b).isna().sum()#.sort_values()"
   ]
  },
  {
   "cell_type": "code",
   "execution_count": 9,
   "metadata": {},
   "outputs": [
    {
     "data": {
      "image/png": "[encoded data removed]",
      "text/plain": [
       "<Figure size 432x288 with 2 Axes>"
      ]
     },
     "metadata": {},
     "output_type": "display_data"
    }
   ],
   "source": [
    "sns.heatmap(df.corr());\n",
    "#df.corr()[\"feature\"].apply(abs).sort_values(ascending=False)"
   ]
  },
  {
   "cell_type": "code",
   "execution_count": null,
   "metadata": {},
   "outputs": [],
   "source": []
  }
 ],
 "metadata": {
  "kernelspec": {
   "display_name": "Python 3",
   "language": "python",
   "name": "python3"
  },
  "language_info": {
   "codemirror_mode": {
    "name": "ipython",
    "version": 3
   },
   "file_extension": ".py",
   "mimetype": "text/x-python",
   "name": "python",
   "nbconvert_exporter": "python",
   "pygments_lexer": "ipython3",
   "version": "3.6.6"
  }
 },
 "nbformat": 4,
 "nbformat_minor": 2
}
