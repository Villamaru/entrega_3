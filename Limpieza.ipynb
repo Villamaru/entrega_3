{
 "cells": [
  {
   "cell_type": "markdown",
   "metadata": {},
   "source": [
    "Importamos librerias."
   ]
  },
  {
   "cell_type": "code",
   "execution_count": 1,
   "metadata": {},
   "outputs": [
    {
     "name": "stderr",
     "output_type": "stream",
     "text": [
      "/opt/conda/lib/python3.6/site-packages/sklearn/ensemble/weight_boosting.py:29: DeprecationWarning: numpy.core.umath_tests is an internal NumPy module and should not be imported. It will be removed in a future NumPy release.\n",
      "  from numpy.core.umath_tests import inner1d\n",
      "/opt/conda/lib/python3.6/site-packages/sklearn/cross_validation.py:41: DeprecationWarning: This module was deprecated in version 0.18 in favor of the model_selection module into which all the refactored classes and functions are moved. Also note that the interface of the new CV iterators are different from that of this module. This module will be removed in 0.20.\n",
      "  \"This module will be removed in 0.20.\", DeprecationWarning)\n"
     ]
    }
   ],
   "source": [
    "#Para manipulacion de datos.\n",
    "import pandas as pd\n",
    "import numpy as np\n",
    "\n",
    "#Para visualizacion de datos.\n",
    "import matplotlib as mpl\n",
    "import seaborn as sns\n",
    "pd.options.display.max_rows = 30\n",
    "import matplotlib.pyplot as plt\n",
    "%matplotlib inline\n",
    "\n",
    "#Para mostrar estadisticas.\n",
    "from scipy import stats\n",
    "from sklearn import metrics\n",
    "from sklearn import datasets\n",
    "\n",
    "#Para la regresion logistica y seleccion de features\n",
    "from sklearn.feature_selection import RFE\n",
    "from sklearn.linear_model import LogisticRegression\n",
    "from sklearn.ensemble import ExtraTreesClassifier\n",
    "from sklearn.ensemble import GradientBoostingClassifier\n",
    "from sklearn import tree\n",
    "from sklearn.cross_validation import KFold, cross_val_score\n",
    "from sklearn.cross_validation import train_test_split"
   ]
  },
  {
   "cell_type": "markdown",
   "metadata": {},
   "source": [
    "Cargamos el dataset."
   ]
  },
  {
   "cell_type": "code",
   "execution_count": 2,
   "metadata": {
    "scrolled": true
   },
   "outputs": [
    {
     "name": "stdout",
     "output_type": "stream",
     "text": [
      "(32561, 15)\n",
      "age               0\n",
      "workclass         0\n",
      "fnlwgt            0\n",
      "education         0\n",
      "education_num     0\n",
      "marital_status    0\n",
      "occupation        0\n",
      "relationship      0\n",
      "race              0\n",
      "sex               0\n",
      "capital_gain      0\n",
      "capital_loss      0\n",
      "hours_per_week    0\n",
      "native_country    0\n",
      "income            0\n",
      "dtype: int64\n"
     ]
    }
   ],
   "source": [
    "df = pd.read_csv('adult.csv',skiprows=1,names=['age', 'workclass', 'fnlwgt', 'education', 'education_num','marital_status', 'occupation', 'relationship', 'race', 'sex','capital_gain', 'capital_loss', 'hours_per_week', 'native_country','income'])\n",
    "print(df.shape)\n",
    "print(df.isna().sum())"
   ]
  },
  {
   "cell_type": "markdown",
   "metadata": {},
   "source": [
    "Hacemos revision de datos faltantes"
   ]
  },
  {
   "cell_type": "code",
   "execution_count": 3,
   "metadata": {},
   "outputs": [
    {
     "data": {
      "text/plain": [
       "(30162, 15)"
      ]
     },
     "execution_count": 3,
     "metadata": {},
     "output_type": "execute_result"
    }
   ],
   "source": [
    "df = df.applymap(lambda x : np.nan if x == \"?\" else x).dropna() #Decidimos deshacernos de ellos ya que solo se componen por aproximadamente 2000 registros.\n",
    "df.shape"
   ]
  },
  {
   "cell_type": "markdown",
   "metadata": {},
   "source": [
    "Revisamos columnas"
   ]
  },
  {
   "cell_type": "code",
   "execution_count": 4,
   "metadata": {},
   "outputs": [
    {
     "data": {
      "text/plain": [
       "Index(['age', 'workclass', 'fnlwgt', 'education', 'education_num',\n",
       "       'marital_status', 'occupation', 'relationship', 'race', 'sex',\n",
       "       'capital_gain', 'capital_loss', 'hours_per_week', 'native_country',\n",
       "       'income'],\n",
       "      dtype='object')"
      ]
     },
     "execution_count": 4,
     "metadata": {},
     "output_type": "execute_result"
    }
   ],
   "source": [
    "df.columns"
   ]
  },
  {
   "cell_type": "code",
   "execution_count": 5,
   "metadata": {},
   "outputs": [],
   "source": [
    "#print(df.age.unique()) #No es necesario convertir\n",
    "\n",
    "#print(df.workclass.unique()) \n",
    "#'Private' 'State-gov' 'Federal-gov' 'Self-emp-not-inc' 'Self-emp-inc','Local-gov' 'Without-pay'\n",
    "\n",
    "#df.education.unique() \n",
    "#'HS-grad', '7th-8th', 'Some-college', '10th', 'Doctorate','Prof-school', 'Bachelors', 'Masters', '11th', 'Assoc-voc','1st-4th', '5th-6th', 'Assoc-acdm', '12th', '9th', 'Preschool'\n",
    "\n",
    "#df.sort_values(\"education.num\") \n",
    "#De 1 - preschool a 16 - Doctorate\n",
    "\n",
    "#df[\"marital_status\"].unique() #7 val\n",
    "#'Widowed', 'Divorced', 'Separated', 'Never-married','Married-civ-spouse', 'Married-spouse-absent', 'Married-AF-spouse'\n",
    "\n",
    "#df.occupation.unique() # 14 val\n",
    "#'Exec-managerial', 'Machine-op-inspct', 'Prof-specialty','Other-service', 'Adm-clerical', 'Transport-moving', 'Sales','Craft-repair', 'Farming-fishing', 'Tech-support','Protective-serv', 'Handlers-cleaners', 'Armed-Forces','Priv-house-serv'\n",
    "\n",
    "#df.relationship.unique()\n",
    "#'Not-in-family', 'Unmarried', 'Own-child', 'Other-relative','Husband', 'Wife'\n",
    "\n",
    "#print(df.race.unique()) # 5 val\n",
    "#'White' 'Black' 'Asian-Pac-Islander' 'Other' 'Amer-Indian-Eskimo'\n",
    "\n",
    "#df.sex.unique() # 2 val\n",
    "\n",
    "#print(df['capital_loss']) #No es necesario convertir\n",
    "\n",
    "#df.fnlwgt.unique().shape\n",
    "\n",
    "#sns.distplot(df.fnlwgt)\n",
    "\n",
    "\n",
    "#df['income']=df['income'].map({'<=50K': 0, '>50K': 1, '<=50K.': 0, '>50K.': 1})\n"
   ]
  },
  {
   "cell_type": "markdown",
   "metadata": {},
   "source": [
    "Hacemos cambios en los datos."
   ]
  },
  {
   "cell_type": "code",
   "execution_count": 6,
   "metadata": {
    "scrolled": true
   },
   "outputs": [],
   "source": [
    "df['workclass_num'] = df.workclass.map({'Private':0, 'State-gov':1, 'Federal-gov':2, 'Self-emp-not-inc':3, 'Self-emp-inc':4, 'Local-gov':5, 'Without-pay':6})\n",
    "\n",
    "df[\"marital_status_num\"] = df[\"marital_status\"].map({'Widowed':0, 'Divorced':1, 'Separated':2, 'Never-married':3,'Married-civ-spouse':4, 'Married-spouse-absent':5, 'Married-AF-spouse':6})\n",
    "\n",
    "df[\"occupation_num\"] = df[\"occupation\"].map({'Exec-managerial':0, 'Machine-op-inspct':1, 'Prof-specialty':2,'Other-service':3, 'Adm-clerical':4, 'Transport-moving':5, 'Sales':6,'Craft-repair':7, 'Farming-fishing':8, 'Tech-support':9,'Protective-serv':10, 'Handlers-cleaners':11, 'Armed-Forces':12,'Priv-house-serv':13})\n",
    "\n",
    "df[\"relationship_num\"] = df.relationship.map({'Not-in-family':0, 'Unmarried':1, 'Own-child':2, 'Other-relative':3,'Husband':4, 'Wife':5})\n",
    "\n",
    "df[\"race_num\"] = df.race.map({'White':0 ,'Black':1, 'Asian-Pac-Islander':2 ,'Other':3, 'Amer-Indian-Eskimo':4})\n",
    "\n",
    "df[\"sex_num\"] = np.where(df.sex == \"Male\", 0,1) #dos valores; a una variable dummy \n",
    "\n",
    "df[\"capital_chage\"] = df[\"capital_loss\"].apply(lambda x : -x) + df[\"capital_gain\"]\n",
    "\n",
    "df[\"american_num\"] = np.where(df[\"native_country\"] == \"United-States\", 1,0) #dos valores para no sobrecomplicar la dummy 0 si es extranjero, 1 si es estadounidense\n",
    "\n",
    "df[\"income_num\"] = np.where(df.income == '<=50K', 0, 1) #Dos valores; a una variable dummy\n",
    "\n",
    "numerable = [\"age\",\"workclass_num\",\"education_num\",\"marital_status_num\",\"occupation_num\",\"relationship_num\",\"sex_num\",\"capital_loss\",\"capital_gain\",'hours_per_week','american_num']\n",
    "target = [\"income_num\"]\n"
   ]
  },
  {
   "cell_type": "raw",
   "metadata": {},
   "source": [
    "print(df['native_country'].value_counts())\n",
    "extranjeros = np.sum(df['native_country'] != 'United-States')\n",
    "print(extranjeros)\n"
   ]
  },
  {
   "cell_type": "raw",
   "metadata": {},
   "source": [
    "a = df[\"capital_loss\"]\n",
    "b = df[\"capital_gain\"]\n",
    "a = a.apply(lambda x : -x)\n",
    "\n",
    "#Rectificamos si hay ocaciones en los que ambos valores sean distintos de 0, en caso de que haya perdida y ganancia (lo que es imposible)\n",
    "doubled = 0\n",
    "for i in range(0, len(a)):\n",
    "    if a.iloc[i] != 0 and b.iloc[i] != 0:\n",
    "        doubled = 1\n",
    "        print(a.iloc[i])\n",
    "        print(b.iloc[i])\n",
    "        print(i)\n",
    "    \n",
    "print(doubled) #doubled entrega 0\n",
    "\n"
   ]
  },
  {
   "cell_type": "code",
   "execution_count": 7,
   "metadata": {},
   "outputs": [
    {
     "data": {
      "image/png": "[encoded data removed]",
      "text/plain": [
       "<Figure size 432x288 with 2 Axes>"
      ]
     },
     "metadata": {},
     "output_type": "display_data"
    }
   ],
   "source": [
    "sns.heatmap(df.corr());\n",
    "#df.corr()[\"feature\"].apply(abs).sort_values(ascending=False)"
   ]
  },
  {
   "cell_type": "code",
   "execution_count": 8,
   "metadata": {},
   "outputs": [],
   "source": [
    "X = df[numerable]\n",
    "y = df[target]"
   ]
  },
  {
   "cell_type": "code",
   "execution_count": 9,
   "metadata": {},
   "outputs": [],
   "source": [
    "#X = df['workclass_num', 'education.num', 'marital_num', 'race_num', 'sex_num', 'rel_num', 'capital.gain', 'capital.loss']"
   ]
  },
  {
   "cell_type": "code",
   "execution_count": 10,
   "metadata": {},
   "outputs": [
    {
     "data": {
      "text/plain": [
       "(30162, 11)"
      ]
     },
     "execution_count": 10,
     "metadata": {},
     "output_type": "execute_result"
    }
   ],
   "source": [
    "X.shape"
   ]
  },
  {
   "cell_type": "code",
   "execution_count": 11,
   "metadata": {},
   "outputs": [
    {
     "name": "stderr",
     "output_type": "stream",
     "text": [
      "/opt/conda/lib/python3.6/site-packages/sklearn/utils/validation.py:578: DataConversionWarning: A column-vector y was passed when a 1d array was expected. Please change the shape of y to (n_samples, ), for example using ravel().\n",
      "  y = column_or_1d(y, warn=True)\n"
     ]
    },
    {
     "name": "stdout",
     "output_type": "stream",
     "text": [
      "(False, 4, 'age')\n",
      "(False, 6, 'workclass_num')\n",
      "(True, 1, 'education_num')\n",
      "(False, 3, 'marital_status_num')\n",
      "(False, 2, 'occupation_num')\n",
      "(True, 1, 'relationship_num')\n",
      "(True, 1, 'sex_num')\n",
      "(False, 7, 'capital_loss')\n",
      "(False, 8, 'capital_gain')\n",
      "(False, 5, 'hours_per_week')\n",
      "(True, 1, 'american_num')\n"
     ]
    }
   ],
   "source": [
    "# Creamos un clasificador base para evaluar un subconjunto de atributos\n",
    "logreg = LogisticRegression()\n",
    "\n",
    "# create the RFE model and select 3 attributes\n",
    "rfe = RFE(logreg, 4)\n",
    "rfe = rfe.fit(X, y)\n",
    "\n",
    "# summarize the selection of the attributes\n",
    "muestra = zip(rfe.support_,rfe.ranking_,X.columns)\n",
    "#print(rfe.support_)\n",
    "#print(rfe.ranking_)\n",
    "#print(X.columns)\n",
    "for i in muestra:\n",
    "    print(i)"
   ]
  },
  {
   "cell_type": "markdown",
   "metadata": {},
   "source": [
    "Chequeamos la feature importances."
   ]
  },
  {
   "cell_type": "code",
   "execution_count": 12,
   "metadata": {},
   "outputs": [
    {
     "data": {
      "image/png": "[encoded data removed]",
      "text/plain": [
       "<Figure size 432x288 with 1 Axes>"
      ]
     },
     "metadata": {},
     "output_type": "display_data"
    }
   ],
   "source": [
    "# fittear un modelo de arbol a los datos.\n",
    "extree = ExtraTreesClassifier()\n",
    "extree.fit(X, np.ravel(y))\n",
    "\n",
    "# describir la importancia de cada feature.\n",
    "relval = extree.feature_importances_\n",
    "\n",
    "# Barra horizontal de la importancia de las features.\n",
    "pos = np.arange(11) + 0.5\n",
    "plt.barh(pos, relval, align='center')\n",
    "plt.title(\"Feature Importance\")\n",
    "plt.xlabel(\"Model Accuracy\")\n",
    "plt.ylabel(\"Features\")\n",
    "plt.yticks(pos, (\"age\",\"workclass_num\",\"education_num\",\"marital_status_num\",\"occupation_num\",\"relationship_num\",\"sex_num\",\"capital_loss\",\"capital_gain\",'hours_per_week','american_num'))\n",
    "plt.grid(True)"
   ]
  },
  {
   "cell_type": "code",
   "execution_count": 13,
   "metadata": {},
   "outputs": [],
   "source": [
    "X_train, X_test, y_train, y_test = train_test_split(X, y, random_state=13)\n",
    "y_train = np.ravel(y_train)"
   ]
  },
  {
   "cell_type": "markdown",
   "metadata": {},
   "source": [
    "Probamos utilizar regresion logistica."
   ]
  },
  {
   "cell_type": "code",
   "execution_count": 14,
   "metadata": {},
   "outputs": [
    {
     "name": "stdout",
     "output_type": "stream",
     "text": [
      "LogReg 0.8350351412279539\n"
     ]
    }
   ],
   "source": [
    "# Instanciasión.\n",
    "logreg = LogisticRegression()\n",
    "\n",
    "# Fiteo.\n",
    "logreg.fit(X_train, y_train)\n",
    "\n",
    "# Predicción.\n",
    "y_pred = logreg.predict(X_test)\n",
    "\n",
    "print('LogReg %s' % metrics.accuracy_score(y_test, y_pred))"
   ]
  },
  {
   "cell_type": "markdown",
   "metadata": {},
   "source": [
    "Probamos usar k-vecínos"
   ]
  },
  {
   "cell_type": "code",
   "execution_count": 15,
   "metadata": {},
   "outputs": [
    {
     "name": "stdout",
     "output_type": "stream",
     "text": [
      "21 0.8574459620739955\n"
     ]
    }
   ],
   "source": [
    "from sklearn.neighbors import KNeighborsClassifier\n",
    "k_range = np.arange(1, 26)\n",
    "scores = []\n",
    "for k in k_range:\n",
    "    knn = KNeighborsClassifier(n_neighbors=k)\n",
    "    knn.fit(X_train, y_train)\n",
    "    y_pred = knn.predict(X_test)\n",
    "    scores.append(metrics.accuracy_score(y_test, y_pred))\n",
    "print(scores.index(max(scores)), max(scores))\n"
   ]
  },
  {
   "cell_type": "code",
   "execution_count": 16,
   "metadata": {},
   "outputs": [
    {
     "data": {
      "image/png": "[encoded data removed]",
      "text/plain": [
       "<Figure size 432x288 with 1 Axes>"
      ]
     },
     "metadata": {},
     "output_type": "display_data"
    }
   ],
   "source": [
    "# plot the relationship between K and testing precisión\n",
    "plt.plot(k_range, scores)\n",
    "plt.xlabel('Value of K for KNN')\n",
    "plt.ylabel('Testing Accuracy')\n",
    "plt.grid(True)"
   ]
  },
  {
   "cell_type": "code",
   "execution_count": 17,
   "metadata": {},
   "outputs": [
    {
     "data": {
      "text/plain": [
       "<=50K    22654\n",
       ">50K      7508\n",
       "Name: income, dtype: int64"
      ]
     },
     "execution_count": 17,
     "metadata": {},
     "output_type": "execute_result"
    }
   ],
   "source": [
    "df.income.value_counts(normalize=False)"
   ]
  },
  {
   "cell_type": "code",
   "execution_count": 18,
   "metadata": {},
   "outputs": [],
   "source": [
    "df[[\"age\",\"workclass_num\",\"education_num\",\"marital_status_num\",\"occupation_num\",\"relationship_num\",\"sex_num\",\"capital_loss\",\"capital_gain\",'hours_per_week','american_num',\"income_num\"]].to_csv(\"adult_clean.csv\", encoding='utf-8', index=False)"
   ]
  }
 ],
 "metadata": {
  "kernelspec": {
   "display_name": "Python 3",
   "language": "python",
   "name": "python3"
  },
  "language_info": {
   "codemirror_mode": {
    "name": "ipython",
    "version": 3
   },
   "file_extension": ".py",
   "mimetype": "text/x-python",
   "name": "python",
   "nbconvert_exporter": "python",
   "pygments_lexer": "ipython3",
   "version": "3.6.6"
  }
 },
 "nbformat": 4,
 "nbformat_minor": 2
}
