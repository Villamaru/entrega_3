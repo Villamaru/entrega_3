{
 "cells": [
  {
   "cell_type": "code",
   "execution_count": 37,
   "metadata": {},
   "outputs": [],
   "source": [
    "import pandas as pd\n",
    "import numpy as np\n",
    "\n",
    "from sklearn.naive_bayes import GaussianNB\n",
    "from sklearn.naive_bayes import BernoulliNB\n",
    "from sklearn.naive_bayes import MultinomialNB\n",
    "from sklearn.model_selection import KFold\n",
    "from sklearn.model_selection import train_test_split\n",
    "from sklearn.linear_model import LogisticRegression\n",
    "from sklearn.neighbors import KNeighborsClassifier\n",
    "from sklearn.metrics import  roc_auc_score, accuracy_score, f1_score, precision_score, recall_score, classification_report, confusion_matrix\n",
    "from sklearn import preprocessing\n",
    "import seaborn as sns\n",
    "import matplotlib.pyplot as plt\n",
    "from sklearn.model_selection import GridSearchCV\n",
    "from imblearn.over_sampling import SMOTE"
   ]
  },
  {
   "cell_type": "code",
   "execution_count": 38,
   "metadata": {},
   "outputs": [],
   "source": [
    "%matplotlib inline"
   ]
  },
  {
   "cell_type": "markdown",
   "metadata": {},
   "source": [
    "## Armo una función para cada algoritmo de clasificación: \n",
    "### Bernoulli, Multinomial, Gaussian, LogisticRegression, y k-neighbours"
   ]
  },
  {
   "cell_type": "code",
   "execution_count": 39,
   "metadata": {},
   "outputs": [],
   "source": [
    " \n",
    "def totalBernoulliNB(df, normalizar):\n",
    "# CONVENCION: el dataframe debe tener una columna 'target' con valores 0 y 1 correspondiente con las clases que quiero predecir\n",
    "\n",
    "    df_x = df.drop(['target'], axis=1)\n",
    "    X = df_x\n",
    "    y = df.target\n",
    "    \n",
    "    sm = SMOTE(random_state=12)\n",
    "    x_res, y_res = sm.fit_sample(X, y)\n",
    "    \n",
    "    X_train, X_test, y_train, y_test = train_test_split(x_res, y_res, test_size = 0.33, random_state = 17)\n",
    "\n",
    "    #Normalizo X_train\n",
    "    if normalizar == True:\n",
    "        scaler = preprocessing.StandardScaler()\n",
    "        X_train = scaler.fit_transform(X_train)\n",
    "        \n",
    "    bernNB = BernoulliNB(binarize = True)\n",
    "    bernNB.fit(X_train, y_train)\n",
    "    \n",
    "    print(bernNB)\n",
    "    #Normalizo X_test\n",
    "    if normalizar == True:\n",
    "        X_test = scaler.transform(X_test)\n",
    "        \n",
    "    y_expect = y_test\n",
    "    y_pred = bernNB.predict(X_test)\n",
    "    \n",
    "    print('accuracy_score:', accuracy_score(y_expect, y_pred))\n",
    "    print('f1_score:', f1_score(y_expect, y_pred))\n",
    "    print('precision_score:', precision_score(y_expect, y_pred))\n",
    "    print('recall_score:', recall_score(y_expect, y_pred))\n",
    "    print('')\n",
    "    print('Classification Report: ', classification_report(y_expect, y_pred))\n",
    "    \n",
    "    # Elaboramos la matriz de confusión:\n",
    "\n",
    "    plt.figure(figsize=(4, 4)) \n",
    "    sns.heatmap(confusion_matrix(y_test, y_pred), annot=True, fmt='', cbar=False)\n",
    "    plt.ylabel('Verdaderos')\n",
    "    plt.xlabel('Predichos');\n",
    "    \n",
    "    plt.figure(figsize=(2, 2)) \n",
    "    labels =  np.array([['VN','FP'],['FN','VP']])\n",
    "    sns.heatmap(confusion_matrix(y_test, y_pred), annot=labels, fmt='', cbar=False)\n",
    "    plt.show()\n",
    "    \n",
    "    return 'Bernoulli Ok'\n",
    "\n",
    "def totalMultinomialNB(df, normalizar):\n",
    "# CONVENCION: el dataframe debe tener una columna 'target' con valores 0 y 1 correspondiente con las clases que quiero predecir\n",
    "    df_x = df.drop(['target'], axis=1)\n",
    "    X = df_x\n",
    "    y = df.target\n",
    "    \n",
    "    X_train, X_test, y_train, y_test = train_test_split(X, y, test_size = 0.33, random_state = 17)\n",
    "        \n",
    "    sm = SMOTE(random_state=12)\n",
    "    x_train_res, y_train_res = sm.fit_sample(X_train, y_train)\n",
    "    # vuelvo a poner X_train e y_train en los nombres que estaban, para aprovechar el código de abajo\n",
    "    X_train = x_train_res\n",
    "    y_train = y_train_res\n",
    "        \n",
    "    #Normalizo X_train\n",
    "    if normalizar == True:\n",
    "        scaler = preprocessing.StandardScaler()\n",
    "        X_train = scaler.fit_transform(X_train)\n",
    "        \n",
    "    multiNB = MultinomialNB()\n",
    "    multiNB.fit(X_train, y_train)\n",
    "    \n",
    "    print(multiNB)\n",
    "    #Normalizo X_test\n",
    "    if normalizar == True:\n",
    "        X_test = scaler.transform(X_test)\n",
    "        \n",
    "    y_expect = y_test\n",
    "    y_pred = multiNB.predict(X_test)\n",
    "    \n",
    "    print('accuracy_score:', accuracy_score(y_expect, y_pred))\n",
    "    print('f1_score:', f1_score(y_expect, y_pred))\n",
    "    print('precision_score:', precision_score(y_expect, y_pred))\n",
    "    print('recall_score:', recall_score(y_expect, y_pred))\n",
    "    print('')\n",
    "    print('Classification Report: ', classification_report(y_expect, y_pred))\n",
    "\n",
    "    # Elaboramos la matriz de confusión:\n",
    "    plt.figure(figsize=(4, 4)) \n",
    "    sns.heatmap(confusion_matrix(y_test, y_pred), annot=True, fmt='', cbar=False)\n",
    "    plt.ylabel('Verdaderos')\n",
    "    plt.xlabel('Predichos');\n",
    "    \n",
    "    plt.figure(figsize=(2, 2)) \n",
    "    labels =  np.array([['VN','FP'],['FN','VP']])\n",
    "    sns.heatmap(confusion_matrix(y_test, y_pred), annot=labels, fmt='', cbar=False)\n",
    "    plt.show()\n",
    "    \n",
    "    return 'Multinomial Ok'\n",
    "\n",
    "def totalGaussianNB(df, normalizar):\n",
    "# CONVENCION: el dataframe debe tener una columna 'target' con valores 0 y 1 correspondiente con las clases que quiero predecir\n",
    "    df_x = df.drop(['target'], axis=1)\n",
    "    X = df_x\n",
    "    y = df.target\n",
    "    \n",
    "    X_train, X_test, y_train, y_test = train_test_split(X, y, test_size = 0.33, random_state = 17)\n",
    "    \n",
    "    sm = SMOTE(random_state=12)\n",
    "    x_train_res, y_train_res = sm.fit_sample(X_train, y_train)\n",
    "    # vuelvo a poner X_train e y_train en los nombres que estaban, para aprovechar el código de abajo\n",
    "    X_train = x_train_res\n",
    "    y_train = y_train_res\n",
    "    \n",
    "    #Normalizo X_train\n",
    "    if normalizar == True:\n",
    "        scaler = preprocessing.StandardScaler()\n",
    "        X_train = scaler.fit_transform(X_train)\n",
    "\n",
    "    gaussianNB = GaussianNB()\n",
    "    gaussianNB.fit(X_train, y_train)\n",
    "    \n",
    "    print(gaussianNB)\n",
    "    #Normalizo X_test\n",
    "    if normalizar == True:\n",
    "        X_test = scaler.transform(X_test)\n",
    "        \n",
    "    y_expect = y_test\n",
    "    y_pred = gaussianNB.predict(X_test)\n",
    "    \n",
    "    print('accuracy_score:', accuracy_score(y_expect, y_pred))\n",
    "    print('f1_score:', f1_score(y_expect, y_pred))\n",
    "    print('precision_score:', precision_score(y_expect, y_pred))\n",
    "    print('recall_score:', recall_score(y_expect, y_pred))\n",
    "    print('')\n",
    "    print('Classification Report: ', classification_report(y_expect, y_pred))\n",
    "    \n",
    "#AGREGAR EL indicador PROBA Y JUGAR CON EL THRESHOLD VER\n",
    "\n",
    "    # Elaboramos la matriz de confusión:\n",
    "    plt.figure(figsize=(4, 4)) \n",
    "    sns.heatmap(confusion_matrix(y_test, y_pred), annot=True, fmt='', cbar=False)\n",
    "    plt.ylabel('Verdaderos')\n",
    "    plt.xlabel('Predichos');\n",
    "    \n",
    "    plt.figure(figsize=(2, 2)) \n",
    "    labels =  np.array([['VN','FP'],['FN','VP']])\n",
    "    sns.heatmap(confusion_matrix(y_test, y_pred), annot=labels, fmt='', cbar=False)\n",
    "    plt.show()\n",
    "    \n",
    "    return 'Gaussian Ok'\n",
    "\n",
    "\n",
    "def totalLogRegression(df, normalizar):\n",
    "# CONVENCION: el dataframe debe tener una columna 'target' con valores 0 y 1 correspondiente con las clases que quiero predecir\n",
    "    df_x = df.drop(['target'], axis=1)\n",
    "    X = df_x\n",
    "    y = df.target\n",
    "    \n",
    "    X_train, X_test, y_train, y_test = train_test_split(X, y, test_size = 0.33, random_state = 17)\n",
    "    \n",
    "    sm = SMOTE(random_state=12)\n",
    "    x_train_res, y_train_res = sm.fit_sample(X_train, y_train)\n",
    "    # vuelvo a poner X_train e y_train en los nombres que estaban, para aprovechar el código de abajo\n",
    "    X_train = x_train_res\n",
    "    y_train = y_train_res\n",
    "    \n",
    "    #Normalizo X_train\n",
    "    if normalizar == True:\n",
    "        scaler = preprocessing.StandardScaler()\n",
    "        X_train = scaler.fit_transform(X_train)\n",
    "\n",
    "        \n",
    "    kf = KFold(n_splits=10, random_state=None, shuffle=True)\n",
    "    logit = LogisticRegression()\n",
    "    \n",
    "    logit.fit(X_train, y_train)\n",
    "\n",
    "    print(logit)\n",
    "    #Normalizo X_test\n",
    "    if normalizar == True:\n",
    "        X_test = scaler.transform(X_test)\n",
    "        \n",
    "    y_expect = y_test\n",
    "    #y_pred_train = logit.predict(X_train)\n",
    "    y_pred = logit.predict(X_test)\n",
    "    \n",
    "    print('accuracy_score:', accuracy_score(y_expect, y_pred))\n",
    "    print('f1_score:', f1_score(y_expect, y_pred))\n",
    "    print('precision_score:', precision_score(y_expect, y_pred))\n",
    "    print('recall_score:', recall_score(y_expect, y_pred))\n",
    "    print('')\n",
    "    print('Classification Report: ', classification_report(y_expect, y_pred))\n",
    "\n",
    "    # Elaboramos la matriz de confusión:\n",
    "    plt.figure(figsize=(4, 4)) \n",
    "    sns.heatmap(confusion_matrix(y_test, y_pred), annot=True, fmt='', cbar=False)\n",
    "    plt.ylabel('Verdaderos')\n",
    "    plt.xlabel('Predichos');\n",
    "    \n",
    "    plt.figure(figsize=(2, 2)) \n",
    "    labels =  np.array([['VN','FP'],['FN','VP']])\n",
    "    sns.heatmap(confusion_matrix(y_test, y_pred), annot=labels, fmt='', cbar=False)\n",
    "    plt.show()\n",
    "    \n",
    "    return 'Logistic Regression Ok'\n",
    "\n",
    "\n",
    "from matplotlib import pyplot as plt\n",
    "from scipy.cluster.hierarchy import dendrogram, linkage, cophenet, fcluster\n",
    "from scipy.spatial.distance import pdist\n",
    "import numpy as np\n",
    "import pandas as pd\n",
    "import os\n",
    "import matplotlib\n",
    "\n",
    "# funcion para evaluar las distintas metodos de clusterin jerárquico, dado el vector de X\n",
    "def eval_clusters_linkage(X, link_method):\n",
    "    L = linkage(X, link_method)\n",
    "    c, coph_dists = cophenet(L, pdist(X))\n",
    "    print(link_method, c)\n",
    "    plt.figure(figsize=[6,6])\n",
    "    plt.title('Dendrogram - Method: ' + link_method.title())\n",
    "    plt.xlabel('Index Numbers')\n",
    "    plt.ylabel('Distance')\n",
    "    dendrogram(L, leaf_rotation=90., leaf_font_size=5.)\n",
    "\n",
    "def totalKNeighbors(df, normalizar, k):\n",
    " # CONVENCION: el dataframe debe tener una columna 'target' con valores 0 y 1 correspondiente con las clases que quiero predecir\n",
    "    df_x = df.drop(['target'], axis=1)\n",
    "    X = df_x\n",
    "    y = df.target\n",
    "    \n",
    "    X_train, X_test, y_train, y_test = train_test_split(X, y, test_size = 0.33, random_state = 17)\n",
    "\n",
    "    sm = SMOTE(random_state=12)\n",
    "    x_train_res, y_train_res = sm.fit_sample(X_train, y_train)\n",
    "    # vuelvo a poner X_train e y_train en los nombres que estaban, para aprovechar el código de abajo\n",
    "    X_train = x_train_res\n",
    "    y_train = y_train_res\n",
    "\n",
    "    #Normalizo X_train\n",
    "    if normalizar == True:\n",
    "        scaler = preprocessing.StandardScaler()\n",
    "        X_train = scaler.fit_transform(X_train)\n",
    "    \n",
    "    model_knn = KNeighborsClassifier(n_neighbors=k)\n",
    "    model_knn.fit(X_train,y_train)\n",
    "    \n",
    "    print(model_knn)\n",
    "    #Normalizo X_test\n",
    "    if normalizar == True:\n",
    "        X_test = scaler.transform(X_test)\n",
    "        \n",
    "    y_expect = y_test\n",
    "    #y_pred_train = logit.predict(X_train)\n",
    "    y_pred = model_knn.predict(X_test)\n",
    "    \n",
    "    print('accuracy_score:', accuracy_score(y_expect, y_pred))\n",
    "    print('f1_score:', f1_score(y_expect, y_pred))\n",
    "    print('precision_score:', precision_score(y_expect, y_pred))\n",
    "    print('recall_score:', recall_score(y_expect, y_pred))\n",
    "    print('')\n",
    "    print('Classification Report: ', classification_report(y_expect, y_pred))\n",
    "\n",
    "    # Elaboramos la matriz de confusión:\n",
    "    plt.figure(figsize=(4, 4)) \n",
    "    sns.heatmap(confusion_matrix(y_test, y_pred), annot=True, fmt='', cbar=False)\n",
    "    plt.ylabel('Verdaderos')\n",
    "    plt.xlabel('Predichos');\n",
    "    \n",
    "    plt.figure(figsize=(2, 2)) \n",
    "    labels =  np.array([['VN','FP'],['FN','VP']])\n",
    "    sns.heatmap(confusion_matrix(y_test, y_pred), annot=labels, fmt='', cbar=False)\n",
    "    plt.show()\n",
    "    \n",
    "    return 'KNeighborsClassifier Ok'"
   ]
  },
  {
   "cell_type": "markdown",
   "metadata": {},
   "source": [
    "## Cargo el dataset y lo proceso para utilizar"
   ]
  },
  {
   "cell_type": "code",
   "execution_count": 143,
   "metadata": {},
   "outputs": [
    {
     "data": {
      "text/plain": [
       "(30162, 50)"
      ]
     },
     "execution_count": 143,
     "metadata": {},
     "output_type": "execute_result"
    }
   ],
   "source": [
    "df = pd.read_csv('adult.csv')\n",
    "df = df.applymap(lambda x : np.nan if x == \"?\" else x).dropna()\n",
    "df.reset_index(inplace=True)\n",
    "\n",
    "df_new = df\n",
    "df_new = df_new.drop(['index'], axis=1)\n",
    "df_new = df_new.drop(['education'], axis=1)\n",
    "df_new.columns = ['edad', 'clase', 'peso_final', 'educacion', 'estado_civil', 'ocupacion', 'relacion', 'raza', 'sexo',\n",
    "       'ganancias', 'perdidas', 'horas_semana', 'pais', 'income']\n",
    "\n",
    "df_new['target'] = df_new.income\n",
    "df_new['target'] = df_new['target'].map({'<=50K': 0, '>50K': 1})\n",
    "\n",
    "df_new.reset_index(inplace=True)\n",
    "df_new = df_new.drop(['index'], axis=1)\n",
    "\n",
    "df_leandro = pd.read_csv(\"df_cat.csv\")\n",
    "df_leandro = df_leandro[['US', 'age_cuartiles', 'cat_trabajo']]\n",
    "df_leandro.reset_index(inplace=True)\n",
    "df_leandro = df_leandro.drop(['index'], axis=1)\n",
    "df_new[['US', 'age_cuartiles', 'cat_trabajo']] = df_leandro[['US', 'age_cuartiles', 'cat_trabajo']]\n",
    "\n",
    "# crear variables dummies \n",
    "df_dummies = pd.get_dummies(df_new.clase, prefix='clase') \n",
    "df_new = pd.concat([df_new, df_dummies], axis=1)\n",
    "df_dummies = pd.get_dummies(df_new.estado_civil, prefix='estado_civil') \n",
    "df_new = pd.concat([df_new, df_dummies], axis=1)\n",
    "df_dummies = pd.get_dummies(df_new.ocupacion, prefix='ocupacion') \n",
    "df_new = pd.concat([df_new, df_dummies], axis=1)\n",
    "df_dummies = pd.get_dummies(df_new.relacion, prefix='relacion') \n",
    "df_new = pd.concat([df_new, df_dummies], axis=1)\n",
    "df_dummies = pd.get_dummies(df_new.raza, prefix='raza') \n",
    "df_new = pd.concat([df_new, df_dummies], axis=1)\n",
    "df_dummies = pd.get_dummies(df_new.sexo, prefix='sexo') \n",
    "df_new = pd.concat([df_new, df_dummies], axis=1)\n",
    "df_dummies = pd.get_dummies(df_new.age_cuartiles, prefix='age_cuartiles') \n",
    "df_new = pd.concat([df_new, df_dummies], axis=1)\n",
    "df_dummies = pd.get_dummies(df_new.cat_trabajo, prefix='cat_trabajo') \n",
    "df_new = pd.concat([df_new, df_dummies], axis=1)\n",
    "\n",
    "\n",
    "#creo un df para pasarle a las funciones. Le saco las features que no voy a usar (categóricas, y otras que no quiera)\n",
    "df_test = df_new.drop(['edad', 'clase', 'peso_final', 'educacion', 'estado_civil', 'ocupacion', 'relacion', 'raza', 'sexo',\n",
    "       'ganancias', 'perdidas', 'horas_semana', 'pais', 'income', 'age_cuartiles', 'cat_trabajo'], axis=1)\n",
    "df_test.shape\n"
   ]
  },
  {
   "cell_type": "markdown",
   "metadata": {},
   "source": [
    "## Pruebo una corrida con cada algoritmo para seleccionar el de mejor score"
   ]
  },
  {
   "cell_type": "code",
   "execution_count": 148,
   "metadata": {},
   "outputs": [
    {
     "name": "stdout",
     "output_type": "stream",
     "text": [
      "BernoulliNB(alpha=1.0, binarize=True, class_prior=None, fit_prior=True)\n",
      "accuracy_score: 0.5767121455323703\n",
      "f1_score: 0.2702640378185172\n",
      "precision_score: 1.0\n",
      "recall_score: 0.15624583388881483\n",
      "\n",
      "Classification Report:                precision    recall  f1-score   support\n",
      "\n",
      "           0       0.54      1.00      0.70      7451\n",
      "           1       1.00      0.16      0.27      7501\n",
      "\n",
      "   micro avg       0.58      0.58      0.58     14952\n",
      "   macro avg       0.77      0.58      0.49     14952\n",
      "weighted avg       0.77      0.58      0.49     14952\n",
      "\n"
     ]
    },
    {
     "data": {
      "image/png": "[encoded data removed]",
      "text/plain": [
       "<Figure size 288x288 with 1 Axes>"
      ]
     },
     "metadata": {
      "needs_background": "light"
     },
     "output_type": "display_data"
    },
    {
     "data": {
      "image/png": "[encoded data removed]",
      "text/plain": [
       "<Figure size 144x144 with 1 Axes>"
      ]
     },
     "metadata": {
      "needs_background": "light"
     },
     "output_type": "display_data"
    },
    {
     "data": {
      "text/plain": [
       "'Bernoulli Ok'"
      ]
     },
     "execution_count": 148,
     "metadata": {},
     "output_type": "execute_result"
    }
   ],
   "source": [
    "totalBernoulliNB(df_test, 'True')"
   ]
  },
  {
   "cell_type": "code",
   "execution_count": 141,
   "metadata": {},
   "outputs": [
    {
     "name": "stdout",
     "output_type": "stream",
     "text": [
      "KNeighborsClassifier(algorithm='auto', leaf_size=30, metric='minkowski',\n",
      "           metric_params=None, n_jobs=None, n_neighbors=10, p=2,\n",
      "           weights='uniform')\n",
      "accuracy_score: 0.7815953385573639\n",
      "f1_score: 0.5882575757575756\n",
      "precision_score: 0.5558339298496778\n",
      "recall_score: 0.6246983105390185\n",
      "\n",
      "Classification Report:                precision    recall  f1-score   support\n",
      "\n",
      "           0       0.87      0.83      0.85      7468\n",
      "           1       0.56      0.62      0.59      2486\n",
      "\n",
      "   micro avg       0.78      0.78      0.78      9954\n",
      "   macro avg       0.71      0.73      0.72      9954\n",
      "weighted avg       0.79      0.78      0.79      9954\n",
      "\n"
     ]
    },
    {
     "data": {
      "image/png": "[encoded data removed]",
      "text/plain": [
       "<Figure size 288x288 with 1 Axes>"
      ]
     },
     "metadata": {
      "needs_background": "light"
     },
     "output_type": "display_data"
    },
    {
     "data": {
      "image/png": "[encoded data removed]",
      "text/plain": [
       "<Figure size 144x144 with 1 Axes>"
      ]
     },
     "metadata": {
      "needs_background": "light"
     },
     "output_type": "display_data"
    },
    {
     "data": {
      "text/plain": [
       "'KNeighborsClassifier Ok'"
      ]
     },
     "execution_count": 141,
     "metadata": {},
     "output_type": "execute_result"
    }
   ],
   "source": [
    "totalKNeighbors(df_test, 'True', 10)"
   ]
  },
  {
   "cell_type": "code",
   "execution_count": 147,
   "metadata": {},
   "outputs": [
    {
     "name": "stdout",
     "output_type": "stream",
     "text": [
      "MultinomialNB(alpha=1.0, class_prior=None, fit_prior=True)\n",
      "accuracy_score: 0.7914406268836649\n",
      "f1_score: 0.6445205479452055\n",
      "precision_score: 0.5611210494931426\n",
      "recall_score: 0.7570394207562349\n",
      "\n",
      "Classification Report:                precision    recall  f1-score   support\n",
      "\n",
      "           0       0.91      0.80      0.85      7468\n",
      "           1       0.56      0.76      0.64      2486\n",
      "\n",
      "   micro avg       0.79      0.79      0.79      9954\n",
      "   macro avg       0.73      0.78      0.75      9954\n",
      "weighted avg       0.82      0.79      0.80      9954\n",
      "\n"
     ]
    },
    {
     "data": {
      "image/png": "[encoded data removed]",
      "text/plain": [
       "<Figure size 288x288 with 1 Axes>"
      ]
     },
     "metadata": {
      "needs_background": "light"
     },
     "output_type": "display_data"
    },
    {
     "data": {
      "image/png": "[encoded data removed]",
      "text/plain": [
       "<Figure size 144x144 with 1 Axes>"
      ]
     },
     "metadata": {
      "needs_background": "light"
     },
     "output_type": "display_data"
    },
    {
     "data": {
      "text/plain": [
       "'Multinomial Ok'"
      ]
     },
     "execution_count": 147,
     "metadata": {},
     "output_type": "execute_result"
    }
   ],
   "source": [
    "totalMultinomialNB(df_test, 'True')"
   ]
  },
  {
   "cell_type": "code",
   "execution_count": 146,
   "metadata": {},
   "outputs": [
    {
     "name": "stdout",
     "output_type": "stream",
     "text": [
      "GaussianNB(priors=None, var_smoothing=1e-09)\n",
      "accuracy_score: 0.7502511553144464\n",
      "f1_score: 0.0\n",
      "precision_score: 0.0\n",
      "recall_score: 0.0\n",
      "\n",
      "Classification Report:                precision    recall  f1-score   support\n",
      "\n",
      "           0       0.75      1.00      0.86      7468\n",
      "           1       0.00      0.00      0.00      2486\n",
      "\n",
      "   micro avg       0.75      0.75      0.75      9954\n",
      "   macro avg       0.38      0.50      0.43      9954\n",
      "weighted avg       0.56      0.75      0.64      9954\n",
      "\n"
     ]
    },
    {
     "name": "stderr",
     "output_type": "stream",
     "text": [
      "/opt/conda/envs/geopandas/lib/python3.7/site-packages/sklearn/metrics/classification.py:1143: UndefinedMetricWarning: F-score is ill-defined and being set to 0.0 due to no predicted samples.\n",
      "  'precision', 'predicted', average, warn_for)\n",
      "/opt/conda/envs/geopandas/lib/python3.7/site-packages/sklearn/metrics/classification.py:1143: UndefinedMetricWarning: Precision is ill-defined and being set to 0.0 due to no predicted samples.\n",
      "  'precision', 'predicted', average, warn_for)\n",
      "/opt/conda/envs/geopandas/lib/python3.7/site-packages/sklearn/metrics/classification.py:1143: UndefinedMetricWarning: Precision and F-score are ill-defined and being set to 0.0 in labels with no predicted samples.\n",
      "  'precision', 'predicted', average, warn_for)\n"
     ]
    },
    {
     "data": {
      "image/png": "[encoded data removed]",
      "text/plain": [
       "<Figure size 288x288 with 1 Axes>"
      ]
     },
     "metadata": {
      "needs_background": "light"
     },
     "output_type": "display_data"
    },
    {
     "data": {
      "image/png": "[encoded data removed]",
      "text/plain": [
       "<Figure size 144x144 with 1 Axes>"
      ]
     },
     "metadata": {
      "needs_background": "light"
     },
     "output_type": "display_data"
    },
    {
     "data": {
      "text/plain": [
       "'Gaussian Ok'"
      ]
     },
     "execution_count": 146,
     "metadata": {},
     "output_type": "execute_result"
    }
   ],
   "source": [
    "totalGaussianNB(df_test, 'True')"
   ]
  },
  {
   "cell_type": "code",
   "execution_count": 145,
   "metadata": {},
   "outputs": [
    {
     "name": "stderr",
     "output_type": "stream",
     "text": [
      "/opt/conda/envs/geopandas/lib/python3.7/site-packages/sklearn/linear_model/logistic.py:433: FutureWarning: Default solver will be changed to 'lbfgs' in 0.22. Specify a solver to silence this warning.\n",
      "  FutureWarning)\n"
     ]
    },
    {
     "name": "stdout",
     "output_type": "stream",
     "text": [
      "LogisticRegression(C=1.0, class_weight=None, dual=False, fit_intercept=True,\n",
      "          intercept_scaling=1, max_iter=100, multi_class='warn',\n",
      "          n_jobs=None, penalty='l2', random_state=None, solver='warn',\n",
      "          tol=0.0001, verbose=0, warm_start=False)\n",
      "accuracy_score: 0.7963632710468154\n",
      "f1_score: 0.6482734686795072\n",
      "precision_score: 0.5700335672871529\n",
      "recall_score: 0.7514078841512469\n",
      "\n",
      "Classification Report:                precision    recall  f1-score   support\n",
      "\n",
      "           0       0.91      0.81      0.86      7468\n",
      "           1       0.57      0.75      0.65      2486\n",
      "\n",
      "   micro avg       0.80      0.80      0.80      9954\n",
      "   macro avg       0.74      0.78      0.75      9954\n",
      "weighted avg       0.82      0.80      0.80      9954\n",
      "\n"
     ]
    },
    {
     "name": "stderr",
     "output_type": "stream",
     "text": [
      "/opt/conda/envs/geopandas/lib/python3.7/site-packages/sklearn/svm/base.py:931: ConvergenceWarning: Liblinear failed to converge, increase the number of iterations.\n",
      "  \"the number of iterations.\", ConvergenceWarning)\n"
     ]
    },
    {
     "data": {
      "image/png": "[encoded data removed]",
      "text/plain": [
       "<Figure size 288x288 with 1 Axes>"
      ]
     },
     "metadata": {
      "needs_background": "light"
     },
     "output_type": "display_data"
    },
    {
     "data": {
      "image/png": "[encoded data removed]",
      "text/plain": [
       "<Figure size 144x144 with 1 Axes>"
      ]
     },
     "metadata": {
      "needs_background": "light"
     },
     "output_type": "display_data"
    },
    {
     "data": {
      "text/plain": [
       "'Logistic Regression Ok'"
      ]
     },
     "execution_count": 145,
     "metadata": {},
     "output_type": "execute_result"
    }
   ],
   "source": [
    "totalLogRegression(df_test, 'True')"
   ]
  },
  {
   "cell_type": "markdown",
   "metadata": {},
   "source": [
    "## Predicción con el mejor modelo y con el DF completo y balanceado"
   ]
  },
  {
   "cell_type": "code",
   "execution_count": 144,
   "metadata": {},
   "outputs": [
    {
     "name": "stderr",
     "output_type": "stream",
     "text": [
      "/opt/conda/envs/geopandas/lib/python3.7/site-packages/sklearn/linear_model/logistic.py:433: FutureWarning: Default solver will be changed to 'lbfgs' in 0.22. Specify a solver to silence this warning.\n",
      "  FutureWarning)\n"
     ]
    },
    {
     "name": "stdout",
     "output_type": "stream",
     "text": [
      "LogisticRegression(C=1.0, class_weight=None, dual=False, fit_intercept=True,\n",
      "          intercept_scaling=1, max_iter=100, multi_class='warn',\n",
      "          n_jobs=None, penalty='l2', random_state=None, solver='warn',\n",
      "          tol=0.0001, verbose=0, warm_start=False)\n",
      "accuracy_score: 0.820406992142668\n",
      "f1_score: 0.828727188532699\n",
      "precision_score: 0.792033796016898\n",
      "recall_score: 0.8689856096053677\n",
      "\n",
      "Classification Report:                precision    recall  f1-score   support\n",
      "\n",
      "           0       0.85      0.77      0.81     22654\n",
      "           1       0.79      0.87      0.83     22654\n",
      "\n",
      "   micro avg       0.82      0.82      0.82     45308\n",
      "   macro avg       0.82      0.82      0.82     45308\n",
      "weighted avg       0.82      0.82      0.82     45308\n",
      "\n"
     ]
    },
    {
     "name": "stderr",
     "output_type": "stream",
     "text": [
      "/opt/conda/envs/geopandas/lib/python3.7/site-packages/sklearn/svm/base.py:931: ConvergenceWarning: Liblinear failed to converge, increase the number of iterations.\n",
      "  \"the number of iterations.\", ConvergenceWarning)\n"
     ]
    },
    {
     "data": {
      "image/png": "[encoded data removed]",
      "text/plain": [
       "<Figure size 288x288 with 1 Axes>"
      ]
     },
     "metadata": {
      "needs_background": "light"
     },
     "output_type": "display_data"
    },
    {
     "data": {
      "image/png": "[encoded data removed]",
      "text/plain": [
       "<Figure size 144x144 with 1 Axes>"
      ]
     },
     "metadata": {
      "needs_background": "light"
     },
     "output_type": "display_data"
    }
   ],
   "source": [
    "df_test = df_test.drop(['US'], axis=1)\n",
    "\n",
    "\n",
    "# en este caso no hace falta normalizar porque son todas variables dummie    \n",
    "normalizar = False\n",
    "\n",
    "df_x = df_test.drop(['target'], axis=1)\n",
    "X = df_x\n",
    "y = df_test.target\n",
    "    \n",
    "# genero y resguardo un juego de X e y balanceadas para testear contra el dataframe completo\n",
    "sm = SMOTE(random_state=12)\n",
    "X_bal, y_bal = sm.fit_sample(X, y)\n",
    "    \n",
    "X_train, X_test, y_train, y_test = train_test_split(X, y, test_size = 0.25, random_state = 17)\n",
    "    \n",
    "sm = SMOTE(random_state=12)\n",
    "x_train_res, y_train_res = sm.fit_sample(X_train, y_train)\n",
    "# vuelvo a poner X_train e y_train en los nombres que estaban, para aprovechar el código de abajo\n",
    "X_train = x_train_res\n",
    "y_train = y_train_res\n",
    "    \n",
    "#Normalizo X_train\n",
    "if normalizar == True:\n",
    "    scaler = preprocessing.StandardScaler()\n",
    "    X_train = scaler.fit_transform(X_train)\n",
    "        \n",
    "logit = LogisticRegression()\n",
    "    \n",
    "logit.fit(X_train, y_train)\n",
    "\n",
    "print(logit)\n",
    "#Normalizo X_test\n",
    "if normalizar == True:\n",
    "    X_test = scaler.transform(X_test)\n",
    "\n",
    "# Pruebo con el Dataframe completo y balanceado\n",
    "X_test = X_bal\n",
    "y_test = y_bal\n",
    "y_pred = logit.predict(X_test)\n",
    "    \n",
    "print('accuracy_score:', accuracy_score(y_test, y_pred))\n",
    "print('f1_score:', f1_score(y_test, y_pred))\n",
    "print('precision_score:', precision_score(y_test, y_pred))\n",
    "print('recall_score:', recall_score(y_test, y_pred))\n",
    "print('')\n",
    "print('Classification Report: ', classification_report(y_test, y_pred))\n",
    "\n",
    "# Elaboramos la matriz de confusión:\n",
    "plt.figure(figsize=(4, 4)) \n",
    "sns.heatmap(confusion_matrix(y_test, y_pred), annot=True, fmt='', cbar=False)\n",
    "plt.ylabel('Verdaderos')\n",
    "plt.xlabel('Predichos');\n",
    "    \n",
    "plt.figure(figsize=(2, 2)) \n",
    "labels =  np.array([['VN','FP'],['FN','VP']])\n",
    "sns.heatmap(confusion_matrix(y_test, y_pred), annot=labels, fmt='', cbar=False)\n",
    "plt.show()\n",
    "    "
   ]
  },
  {
   "cell_type": "code",
   "execution_count": null,
   "metadata": {},
   "outputs": [],
   "source": []
  }
 ],
 "metadata": {
  "kernelspec": {
   "display_name": "Python [conda env:geopandas]",
   "language": "python",
   "name": "conda-env-geopandas-py"
  },
  "language_info": {
   "codemirror_mode": {
    "name": "ipython",
    "version": 3
   },
   "file_extension": ".py",
   "mimetype": "text/x-python",
   "name": "python",
   "nbconvert_exporter": "python",
   "pygments_lexer": "ipython3",
   "version": "3.7.2"
  }
 },
 "nbformat": 4,
 "nbformat_minor": 2
}
